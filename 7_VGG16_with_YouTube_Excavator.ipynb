{
  "nbformat": 4,
  "nbformat_minor": 0,
  "metadata": {
    "colab": {
      "name": "7. VGG16 with YouTube Excavator.ipynb",
      "provenance": [],
      "collapsed_sections": [],
      "mount_file_id": "1iNDdZyu0RR6eHQI1Vz-MBL8qBhM5A0PB",
      "authorship_tag": "ABX9TyOOYI8zObgrXpM3KCHRT5IA",
      "include_colab_link": true
    },
    "kernelspec": {
      "name": "python3",
      "display_name": "Python 3"
    },
    "language_info": {
      "name": "python"
    },
    "accelerator": "GPU"
  },
  "cells": [
    {
      "cell_type": "markdown",
      "metadata": {
        "id": "view-in-github",
        "colab_type": "text"
      },
      "source": [
        "<a href=\"https://colab.research.google.com/github/aem210/computer-vision-using-deep-learning/blob/main/7_VGG16_with_YouTube_Excavator.ipynb\" target=\"_parent\"><img src=\"https://colab.research.google.com/assets/colab-badge.svg\" alt=\"Open In Colab\"/></a>"
      ]
    },
    {
      "cell_type": "code",
      "metadata": {
        "id": "3toeYbqOZWA5"
      },
      "source": [
        "import cv2\n",
        "import os\n",
        "import numpy as np\n",
        "from keras.applications.vgg16 import VGG16, preprocess_input\n",
        "from keras.preprocessing.image import img_to_array\n",
        "from keras.optimizers import SGD\n",
        "\n",
        "import math   # for mathematical operations\n",
        "import matplotlib.pyplot as plt    # for plotting the images\n",
        "%matplotlib inline\n",
        "import pandas as pd\n",
        "from keras.preprocessing import image   # for preprocessing the images\n",
        "from keras.utils import np_utils\n",
        "from skimage.transform import resize   # for resizing images\n",
        "from sklearn.model_selection import train_test_split\n",
        "from glob import glob\n",
        "from tqdm import tqdm\n",
        "import os"
      ],
      "execution_count": 1,
      "outputs": []
    },
    {
      "cell_type": "markdown",
      "metadata": {
        "id": "RR7KXH4rd49i"
      },
      "source": [
        "Load the files "
      ]
    },
    {
      "cell_type": "code",
      "metadata": {
        "id": "XjEI8bW2d8Ov"
      },
      "source": [
        "data_dir_path = \"/content/drive/MyDrive\"\n",
        "data_set_name = 'train'"
      ],
      "execution_count": 2,
      "outputs": []
    },
    {
      "cell_type": "markdown",
      "metadata": {
        "id": "8chlouS-d8ev"
      },
      "source": [
        "Get the base model "
      ]
    },
    {
      "cell_type": "code",
      "metadata": {
        "id": "Gi6KiqgVd-dB"
      },
      "source": [
        "# creating the base model of pre-trained VGG16 model\n",
        "base_model = VGG16(weights='imagenet', include_top=False)\n",
        "base_model.compile(optimizer=SGD(), loss='categorical_crossentropy', metrics=['accuracy'])\n"
      ],
      "execution_count": 3,
      "outputs": []
    },
    {
      "cell_type": "code",
      "metadata": {
        "id": "57ENLVMteGf5"
      },
      "source": [
        "#function from https://github.com/jibinmathew69/VideoClassifier-CNNLSTM/blob/684cce5c2a7c1005d930d8fca6ced5f7ae776b0b/keras_video_classifier/library/utility/frame_extractors/vgg16_feature_extractor.py \n",
        "#this function extracts the features of the video by predicting using VGG16 \n",
        "def extract_vgg16_features(model, video_input_file_path, feature_output_file_path):\n",
        "    if os.path.exists(feature_output_file_path):\n",
        "        return np.load(feature_output_file_path)\n",
        "    count = 0\n",
        "    print('Extracting frames from video: ', video_input_file_path)\n",
        "    vidcap = cv2.VideoCapture(video_input_file_path)\n",
        "    success, image = vidcap.read()\n",
        "    features = []\n",
        "    success = True\n",
        "    while success:\n",
        "        vidcap.set(cv2.CAP_PROP_POS_MSEC, (count * 100))  # added this line\n",
        "        success, image = vidcap.read()\n",
        "        # print('Read a new frame: ', success)\n",
        "        if success:\n",
        "            img = cv2.resize(image, (224, 224), interpolation=cv2.INTER_AREA)\n",
        "            input = img_to_array(img)\n",
        "            input = np.expand_dims(input, axis=0)\n",
        "            input = preprocess_input(input)\n",
        "            feature = model.predict(input).ravel()\n",
        "            features.append(feature)\n",
        "            count = count + 1\n",
        "    unscaled_features = np.array(features)\n",
        "    np.save(feature_output_file_path, unscaled_features)\n",
        "    return unscaled_features\n"
      ],
      "execution_count": 4,
      "outputs": []
    },
    {
      "cell_type": "code",
      "metadata": {
        "id": "T9s26x02eded"
      },
      "source": [
        "#function from https://github.com/jibinmathew69/VideoClassifier-CNNLSTM/blob/684cce5c2a7c1005d930d8fca6ced5f7ae776b0b/keras_video_classifier/library/utility/frame_extractors/vgg16_feature_extractor.py \n",
        "#this function will scan and extract the features and the labels \n",
        "def scan_and_extract_vgg16_features(data_dir_path, output_dir_path, model=base_model, data_set_name=data_set_name):\n",
        "    if data_set_name is None:\n",
        "        data_set_name = 'train'\n",
        "\n",
        "    input_data_dir_path = data_dir_path + '/' + data_set_name\n",
        "    output_feature_data_dir_path = data_dir_path + '/' + output_dir_path\n",
        "\n",
        "    if model is None:\n",
        "        model = VGG16(include_top=True, weights='imagenet')\n",
        "        model.compile(optimizer=SGD(), loss='categorical_crossentropy', metrics=['accuracy'])\n",
        "    \n",
        "    if not os.path.exists(output_feature_data_dir_path):\n",
        "        os.makedirs(output_feature_data_dir_path)\n",
        "\n",
        "    y_samples = []\n",
        "    x_samples = []\n",
        "\n",
        "    dir_count = 0\n",
        "    for f in os.listdir(input_data_dir_path):\n",
        "        file_path = input_data_dir_path + os.path.sep + f\n",
        "        print(file_path)\n",
        "        if not os.path.isfile(file_path):\n",
        "            output_dir_name = f\n",
        "            output_dir_path = output_feature_data_dir_path + os.path.sep + output_dir_name\n",
        "            #print(output_dir_path)\n",
        "            if not os.path.exists(output_dir_path):\n",
        "                os.makedirs(output_dir_path)\n",
        "            dir_count += 1\n",
        "            for ff in os.listdir(file_path):\n",
        "                video_file_path = file_path + os.path.sep + ff\n",
        "                output_feature_file_path = output_dir_path + os.path.sep + ff.split('.')[0] + '.npy'\n",
        "                #print(output_feature_file_path)\n",
        "                x = extract_vgg16_features(base_model, video_file_path, output_feature_file_path)\n",
        "                y = f\n",
        "                y_samples.append(y)\n",
        "                x_samples.append(x)\n",
        "\n",
        "        if dir_count == MAX_NB_CLASSES:\n",
        "            break\n",
        "\n",
        "    return x_samples, y_samples"
      ],
      "execution_count": 5,
      "outputs": []
    },
    {
      "cell_type": "code",
      "metadata": {
        "id": "02Xmf4dFqEcM"
      },
      "source": [
        "#make an output directory to put the outputs in\n",
        "output_dir_path = data_set_name + 'VGG16_Features'\n",
        "os.makedirs(output_dir_path, exist_ok = True)\n"
      ],
      "execution_count": 6,
      "outputs": []
    },
    {
      "cell_type": "code",
      "metadata": {
        "colab": {
          "base_uri": "https://localhost:8080/"
        },
        "id": "3nVIuTfLio2f",
        "outputId": "2b60edb9-fc46-4d9e-c05a-6540c63e2bc7"
      },
      "source": [
        "#Extract the features and the labels from each mp4 file \n",
        "MAX_NB_CLASSES = 4\n",
        "\n",
        "x_samples, y_samples = scan_and_extract_vgg16_features(data_dir_path, output_dir_path, model=base_model, data_set_name='train')\n",
        "\n"
      ],
      "execution_count": 7,
      "outputs": [
        {
          "output_type": "stream",
          "text": [
            "/content/drive/MyDrive/train/Dumping\n",
            "Extracting frames from video:  /content/drive/MyDrive/train/Dumping/Dumping_2.mp4\n",
            "Extracting frames from video:  /content/drive/MyDrive/train/Dumping/Dumping_1.mp4\n",
            "Extracting frames from video:  /content/drive/MyDrive/train/Dumping/Dumping_4.mp4\n",
            "Extracting frames from video:  /content/drive/MyDrive/train/Dumping/Dumping_5.mp4\n",
            "Extracting frames from video:  /content/drive/MyDrive/train/Dumping/Dumping_6.mp4\n",
            "Extracting frames from video:  /content/drive/MyDrive/train/Dumping/Dumping_8.mp4\n",
            "Extracting frames from video:  /content/drive/MyDrive/train/Dumping/Dumping_9.mp4\n",
            "Extracting frames from video:  /content/drive/MyDrive/train/Dumping/Dumping_10.mp4\n",
            "Extracting frames from video:  /content/drive/MyDrive/train/Dumping/Dumping_11.mp4\n",
            "Extracting frames from video:  /content/drive/MyDrive/train/Dumping/Dumping_13.mp4\n",
            "Extracting frames from video:  /content/drive/MyDrive/train/Dumping/Dumping_14.mp4\n",
            "Extracting frames from video:  /content/drive/MyDrive/train/Dumping/Dumping_15.mp4\n",
            "Extracting frames from video:  /content/drive/MyDrive/train/Dumping/Dumping_16.mp4\n",
            "Extracting frames from video:  /content/drive/MyDrive/train/Dumping/Dumping_17.mp4\n",
            "Extracting frames from video:  /content/drive/MyDrive/train/Dumping/Dumping_19.mp4\n",
            "Extracting frames from video:  /content/drive/MyDrive/train/Dumping/Dumping_20.mp4\n",
            "Extracting frames from video:  /content/drive/MyDrive/train/Dumping/Dumping_21.mp4\n",
            "Extracting frames from video:  /content/drive/MyDrive/train/Dumping/Dumping_22.mp4\n",
            "Extracting frames from video:  /content/drive/MyDrive/train/Dumping/Dumping_23.mp4\n",
            "/content/drive/MyDrive/train/Hauling\n",
            "Extracting frames from video:  /content/drive/MyDrive/train/Hauling/Hauling_2.mp4\n",
            "Extracting frames from video:  /content/drive/MyDrive/train/Hauling/Hauling_3.mp4\n",
            "Extracting frames from video:  /content/drive/MyDrive/train/Hauling/Hauling_5.mp4\n",
            "Extracting frames from video:  /content/drive/MyDrive/train/Hauling/Hauling_6.mp4\n",
            "Extracting frames from video:  /content/drive/MyDrive/train/Hauling/Hauling_7.mp4\n",
            "Extracting frames from video:  /content/drive/MyDrive/train/Hauling/Hauling_9.mp4\n",
            "Extracting frames from video:  /content/drive/MyDrive/train/Hauling/Hauling_10.mp4\n",
            "Extracting frames from video:  /content/drive/MyDrive/train/Hauling/Hauling_11.mp4\n",
            "Extracting frames from video:  /content/drive/MyDrive/train/Hauling/Hauling_12.mp4\n",
            "Extracting frames from video:  /content/drive/MyDrive/train/Hauling/Hauling_13.mp4\n",
            "Extracting frames from video:  /content/drive/MyDrive/train/Hauling/Hauling_15.mp4\n",
            "Extracting frames from video:  /content/drive/MyDrive/train/Hauling/Hauling_16.mp4\n",
            "Extracting frames from video:  /content/drive/MyDrive/train/Hauling/Hauling_17.mp4\n",
            "Extracting frames from video:  /content/drive/MyDrive/train/Hauling/Hauling_18.mp4\n",
            "Extracting frames from video:  /content/drive/MyDrive/train/Hauling/Hauling_20.mp4\n",
            "Extracting frames from video:  /content/drive/MyDrive/train/Hauling/Hauling_21.mp4\n",
            "Extracting frames from video:  /content/drive/MyDrive/train/Hauling/Hauling_22.mp4\n",
            "Extracting frames from video:  /content/drive/MyDrive/train/Hauling/Hauling_23.mp4\n",
            "/content/drive/MyDrive/train/Digging\n",
            "Extracting frames from video:  /content/drive/MyDrive/train/Digging/Digging_2.mp4\n",
            "Extracting frames from video:  /content/drive/MyDrive/train/Digging/Digging_3.mp4\n",
            "Extracting frames from video:  /content/drive/MyDrive/train/Digging/Digging_4.mp4\n",
            "Extracting frames from video:  /content/drive/MyDrive/train/Digging/Digging_5.mp4\n",
            "Extracting frames from video:  /content/drive/MyDrive/train/Digging/Digging_6.mp4\n",
            "Extracting frames from video:  /content/drive/MyDrive/train/Digging/Digging_7.mp4\n",
            "Extracting frames from video:  /content/drive/MyDrive/train/Digging/Digging_9.mp4\n",
            "Extracting frames from video:  /content/drive/MyDrive/train/Digging/Digging_10.mp4\n",
            "Extracting frames from video:  /content/drive/MyDrive/train/Digging/Digging_11.mp4\n",
            "Extracting frames from video:  /content/drive/MyDrive/train/Digging/Digging_12.mp4\n",
            "Extracting frames from video:  /content/drive/MyDrive/train/Digging/Digging_13.mp4\n",
            "Extracting frames from video:  /content/drive/MyDrive/train/Digging/Digging_16.mp4\n",
            "Extracting frames from video:  /content/drive/MyDrive/train/Digging/Digging_17.mp4\n",
            "Extracting frames from video:  /content/drive/MyDrive/train/Digging/Digging_18.mp4\n",
            "Extracting frames from video:  /content/drive/MyDrive/train/Digging/Digging_19.mp4\n",
            "Extracting frames from video:  /content/drive/MyDrive/train/Digging/Digging_20.mp4\n",
            "Extracting frames from video:  /content/drive/MyDrive/train/Digging/Digging_21.mp4\n",
            "Extracting frames from video:  /content/drive/MyDrive/train/Digging/Digging_22.mp4\n",
            "/content/drive/MyDrive/train/Swinging\n",
            "Extracting frames from video:  /content/drive/MyDrive/train/Swinging/Swinging_2.mp4\n",
            "Extracting frames from video:  /content/drive/MyDrive/train/Swinging/Swinging_3.mp4\n",
            "Extracting frames from video:  /content/drive/MyDrive/train/Swinging/Swinging_4.mp4\n",
            "Extracting frames from video:  /content/drive/MyDrive/train/Swinging/Swinging_5.mp4\n",
            "Extracting frames from video:  /content/drive/MyDrive/train/Swinging/Swinging_7.mp4\n",
            "Extracting frames from video:  /content/drive/MyDrive/train/Swinging/Swinging_8.mp4\n",
            "Extracting frames from video:  /content/drive/MyDrive/train/Swinging/Swinging_9.mp4\n",
            "Extracting frames from video:  /content/drive/MyDrive/train/Swinging/Swinging_10.mp4\n",
            "Extracting frames from video:  /content/drive/MyDrive/train/Swinging/Swinging_11.mp4\n",
            "Extracting frames from video:  /content/drive/MyDrive/train/Swinging/Swinging_12.mp4\n",
            "Extracting frames from video:  /content/drive/MyDrive/train/Swinging/Swinging_14.mp4\n",
            "Extracting frames from video:  /content/drive/MyDrive/train/Swinging/Swinging_15.mp4\n",
            "Extracting frames from video:  /content/drive/MyDrive/train/Swinging/Swinging_16.mp4\n",
            "Extracting frames from video:  /content/drive/MyDrive/train/Swinging/Swinging_17.mp4\n",
            "Extracting frames from video:  /content/drive/MyDrive/train/Swinging/Swinging_18.mp4\n",
            "Extracting frames from video:  /content/drive/MyDrive/train/Swinging/Swinging_20.mp4\n",
            "Extracting frames from video:  /content/drive/MyDrive/train/Swinging/Swinging_21.mp4\n",
            "Extracting frames from video:  /content/drive/MyDrive/train/Swinging/Swinging_22.mp4\n"
          ],
          "name": "stdout"
        }
      ]
    },
    {
      "cell_type": "code",
      "metadata": {
        "colab": {
          "base_uri": "https://localhost:8080/"
        },
        "id": "-h5mHTAj0tYc",
        "outputId": "2a45656d-f8ee-452d-fa31-db8a6325c25e"
      },
      "source": [
        "x_samples[0].shape[1]"
      ],
      "execution_count": 33,
      "outputs": [
        {
          "output_type": "execute_result",
          "data": {
            "text/plain": [
              "25088"
            ]
          },
          "metadata": {
            "tags": []
          },
          "execution_count": 33
        }
      ]
    },
    {
      "cell_type": "code",
      "metadata": {
        "colab": {
          "base_uri": "https://localhost:8080/"
        },
        "id": "_MCZkBbASHws",
        "outputId": "2086fa3a-c292-415a-d293-6ce393844e8a"
      },
      "source": [
        "#process the image data so that it can be split and used in the models \n",
        "#this block of code takes the average number of frames in the samples and corrects all hte clips so that all clips have the same number of frames (images)\n",
        "#this will mean that the input shape will be consistent across all the videos when feeding into the LSTM \n",
        "max_frames = 0\n",
        "num_input_tokens = x_samples[0].shape[1]\n",
        "frames_list = []\n",
        "for x in x_samples:\n",
        "    frames = x.shape[0]\n",
        "    frames_list.append(frames)\n",
        "    max_frames = max(frames, max_frames)\n",
        "expected_frames = int(np.mean(frames_list))\n",
        "print('max frames: ', max_frames)\n",
        "print('expected frames: ', expected_frames)\n",
        "\n",
        "for i in range(len(x_samples)):\n",
        "    x = x_samples[i]\n",
        "    frames = x.shape[0]\n",
        "    if frames > expected_frames:\n",
        "        x = x[0:expected_frames, :]\n",
        "        x_samples[i] = x\n",
        "    elif frames < expected_frames:\n",
        "        temp = np.zeros(shape=(expected_frames, x.shape[1]))\n",
        "        temp[0:frames, :] = x\n",
        "        x_samples[i] = temp\n",
        "\n",
        "\n"
      ],
      "execution_count": 36,
      "outputs": [
        {
          "output_type": "stream",
          "text": [
            "max frames:  310\n",
            "expected frames:  54\n"
          ],
          "name": "stdout"
        }
      ]
    },
    {
      "cell_type": "code",
      "metadata": {
        "id": "Ua2ssD7DVJys"
      },
      "source": [
        "#convert the samples into array of correct size (sammples, timesteps, features)\n",
        "x_features = np.array(x_samples)"
      ],
      "execution_count": 38,
      "outputs": []
    },
    {
      "cell_type": "code",
      "metadata": {
        "colab": {
          "base_uri": "https://localhost:8080/"
        },
        "id": "fi95f9eYWE_P",
        "outputId": "11ebdf0f-7ad4-497a-80dd-b53cb1f5c933"
      },
      "source": [
        "x_features[1].shape"
      ],
      "execution_count": 47,
      "outputs": [
        {
          "output_type": "execute_result",
          "data": {
            "text/plain": [
              "(54, 25088)"
            ]
          },
          "metadata": {
            "tags": []
          },
          "execution_count": 47
        }
      ]
    },
    {
      "cell_type": "code",
      "metadata": {
        "colab": {
          "base_uri": "https://localhost:8080/"
        },
        "id": "BdNk5PgYUB7w",
        "outputId": "97c4ec83-83db-4b4b-a7b5-58c25e72bc0a"
      },
      "source": [
        "#process the labels \n",
        "labels = dict()\n",
        "for y in y_samples:\n",
        "    if y not in labels:\n",
        "        labels[y] = len(labels)\n",
        "print(labels)\n",
        "for i in range(len(y_samples)):\n",
        "    y_samples[i] = labels[y_samples[i]]\n",
        "\n",
        "nb_classes = len(labels)\n",
        "\n",
        "y_samples = np_utils.to_categorical(y_samples, nb_classes)"
      ],
      "execution_count": 41,
      "outputs": [
        {
          "output_type": "stream",
          "text": [
            "{'Dumping': 0, 'Hauling': 1, 'Digging': 2, 'Swinging': 3}\n"
          ],
          "name": "stdout"
        }
      ]
    },
    {
      "cell_type": "code",
      "metadata": {
        "id": "fRQDh3WtWnMO"
      },
      "source": [
        "# creating the training and validation set\n",
        "x_train, x_test, y_train, y_test = train_test_split(x_features, y_samples, random_state=42, test_size=0.2, stratify = y_samples)"
      ],
      "execution_count": 43,
      "outputs": []
    },
    {
      "cell_type": "code",
      "metadata": {
        "colab": {
          "base_uri": "https://localhost:8080/"
        },
        "id": "sEhekYEGXzAq",
        "outputId": "bd946768-8fb2-4fd1-e288-2d018cb1c1d3"
      },
      "source": [
        "y_train.shape"
      ],
      "execution_count": 45,
      "outputs": [
        {
          "output_type": "execute_result",
          "data": {
            "text/plain": [
              "(58, 4)"
            ]
          },
          "metadata": {
            "tags": []
          },
          "execution_count": 45
        }
      ]
    },
    {
      "cell_type": "code",
      "metadata": {
        "id": "0K9Tl4b3Zi7M"
      },
      "source": [
        "# normalizing the pixel values\n",
        "max = x_train.max()\n",
        "x_train = x_train/max\n",
        "x_test = x_test/max\n"
      ],
      "execution_count": 50,
      "outputs": []
    },
    {
      "cell_type": "code",
      "metadata": {
        "colab": {
          "base_uri": "https://localhost:8080/"
        },
        "id": "q7MuNvVfbjtq",
        "outputId": "f7aabf1e-c27a-4153-d2d5-f5e7f3117b7d"
      },
      "source": [
        "x_train.shape[1]"
      ],
      "execution_count": 52,
      "outputs": [
        {
          "output_type": "execute_result",
          "data": {
            "text/plain": [
              "54"
            ]
          },
          "metadata": {
            "tags": []
          },
          "execution_count": 52
        }
      ]
    },
    {
      "cell_type": "markdown",
      "metadata": {
        "id": "TxategRAa561"
      },
      "source": [
        "#Create Model \n"
      ]
    },
    {
      "cell_type": "code",
      "metadata": {
        "id": "SaAwyLi8cm-U"
      },
      "source": [
        "from keras.layers import Dense, Activation, Dropout, Bidirectional\n",
        "from keras.layers.recurrent import LSTM\n",
        "from keras.models import Sequential\n",
        "from keras.applications.vgg16 import VGG16\n",
        "from keras.optimizers import SGD\n",
        "from keras.optimizers import Adam\n",
        "from keras import backend as K\n",
        "from keras.utils import np_utils\n",
        "from sklearn.model_selection import train_test_split\n",
        "from keras.callbacks import ModelCheckpoint\n",
        "import os\n",
        "import numpy as np"
      ],
      "execution_count": 54,
      "outputs": []
    },
    {
      "cell_type": "code",
      "metadata": {
        "colab": {
          "base_uri": "https://localhost:8080/"
        },
        "id": "EcwEWYlkaaqL",
        "outputId": "d209f24d-98b3-4802-f442-182a7be0a62a"
      },
      "source": [
        "#create model \n",
        "model = Sequential()\n",
        "model.add(LSTM(256, input_shape=(x_train.shape[1], x_train.shape[2]), return_sequences=False, dropout=0.5))\n",
        "model.add(Dense(512, activation='relu'))\n",
        "model.add(Dropout(0.5))\n",
        "model.add(Dense(nb_classes))\n",
        "model.add(Activation('softmax'))\n",
        "\n",
        "model.summary()"
      ],
      "execution_count": 55,
      "outputs": [
        {
          "output_type": "stream",
          "text": [
            "Model: \"sequential\"\n",
            "_________________________________________________________________\n",
            "Layer (type)                 Output Shape              Param #   \n",
            "=================================================================\n",
            "lstm (LSTM)                  (None, 256)               25953280  \n",
            "_________________________________________________________________\n",
            "dense (Dense)                (None, 512)               131584    \n",
            "_________________________________________________________________\n",
            "dropout (Dropout)            (None, 512)               0         \n",
            "_________________________________________________________________\n",
            "dense_1 (Dense)              (None, 4)                 2052      \n",
            "_________________________________________________________________\n",
            "activation (Activation)      (None, 4)                 0         \n",
            "=================================================================\n",
            "Total params: 26,086,916\n",
            "Trainable params: 26,086,916\n",
            "Non-trainable params: 0\n",
            "_________________________________________________________________\n"
          ],
          "name": "stdout"
        }
      ]
    },
    {
      "cell_type": "code",
      "metadata": {
        "id": "aP8mH-hSb3ys"
      },
      "source": [
        "#compile model \n",
        "model.compile(loss='categorical_crossentropy', optimizer='rmsprop', metrics=['accuracy'])"
      ],
      "execution_count": 56,
      "outputs": []
    },
    {
      "cell_type": "code",
      "metadata": {
        "id": "9z9_hm0kc85_"
      },
      "source": [
        "# defining a function to save the weights of best model\n",
        "from keras.callbacks import ModelCheckpoint\n",
        "mcp_save = ModelCheckpoint('VG16_LSTM_weight.hdf5', save_best_only=True, monitor='val_loss', mode='min')"
      ],
      "execution_count": 57,
      "outputs": []
    },
    {
      "cell_type": "code",
      "metadata": {
        "id": "yKD5GlVLrDl8"
      },
      "source": [
        ""
      ],
      "execution_count": null,
      "outputs": []
    },
    {
      "cell_type": "markdown",
      "metadata": {
        "id": "wwrvadE8dSW7"
      },
      "source": [
        "#Train the model "
      ]
    },
    {
      "cell_type": "code",
      "metadata": {
        "colab": {
          "base_uri": "https://localhost:8080/"
        },
        "id": "zKjjA9SpdRn8",
        "outputId": "62035d8e-4b48-4613-8268-9223b7042c1e"
      },
      "source": [
        "history = model.fit(x_train, y_train, epochs=200, validation_data=(x_test, y_test), shuffle=True, callbacks=[mcp_save], batch_size=4)\n"
      ],
      "execution_count": 58,
      "outputs": [
        {
          "output_type": "stream",
          "text": [
            "Epoch 1/200\n",
            "15/15 [==============================] - 24s 464ms/step - loss: 1.6290 - accuracy: 0.1518 - val_loss: 1.2553 - val_accuracy: 0.2667\n",
            "Epoch 2/200\n",
            "15/15 [==============================] - 6s 384ms/step - loss: 1.2962 - accuracy: 0.3703 - val_loss: 1.2977 - val_accuracy: 0.4667\n",
            "Epoch 3/200\n",
            "15/15 [==============================] - 6s 385ms/step - loss: 1.2547 - accuracy: 0.4329 - val_loss: 1.3279 - val_accuracy: 0.4667\n",
            "Epoch 4/200\n",
            "15/15 [==============================] - 6s 386ms/step - loss: 1.2391 - accuracy: 0.4053 - val_loss: 1.1292 - val_accuracy: 0.5333\n",
            "Epoch 5/200\n",
            "15/15 [==============================] - 6s 398ms/step - loss: 1.1588 - accuracy: 0.3993 - val_loss: 1.0893 - val_accuracy: 0.5333\n",
            "Epoch 6/200\n",
            "15/15 [==============================] - 6s 387ms/step - loss: 1.0036 - accuracy: 0.5516 - val_loss: 1.1983 - val_accuracy: 0.5333\n",
            "Epoch 7/200\n",
            "15/15 [==============================] - 6s 393ms/step - loss: 1.1144 - accuracy: 0.5102 - val_loss: 1.1250 - val_accuracy: 0.5333\n",
            "Epoch 8/200\n",
            "15/15 [==============================] - 6s 385ms/step - loss: 0.9847 - accuracy: 0.5122 - val_loss: 1.0597 - val_accuracy: 0.5333\n",
            "Epoch 9/200\n",
            "15/15 [==============================] - 6s 383ms/step - loss: 1.1088 - accuracy: 0.5146 - val_loss: 1.1024 - val_accuracy: 0.4667\n",
            "Epoch 10/200\n",
            "15/15 [==============================] - 6s 391ms/step - loss: 1.0179 - accuracy: 0.5167 - val_loss: 1.0369 - val_accuracy: 0.4667\n",
            "Epoch 11/200\n",
            "15/15 [==============================] - 6s 393ms/step - loss: 1.1506 - accuracy: 0.4668 - val_loss: 1.1586 - val_accuracy: 0.6000\n",
            "Epoch 12/200\n",
            "15/15 [==============================] - 6s 394ms/step - loss: 0.9177 - accuracy: 0.6045 - val_loss: 1.1490 - val_accuracy: 0.5333\n",
            "Epoch 13/200\n",
            "15/15 [==============================] - 6s 389ms/step - loss: 0.8344 - accuracy: 0.6278 - val_loss: 1.1154 - val_accuracy: 0.6000\n",
            "Epoch 14/200\n",
            "15/15 [==============================] - 6s 384ms/step - loss: 0.8533 - accuracy: 0.5738 - val_loss: 1.1666 - val_accuracy: 0.5333\n",
            "Epoch 15/200\n",
            "15/15 [==============================] - 6s 387ms/step - loss: 0.8337 - accuracy: 0.5853 - val_loss: 1.1006 - val_accuracy: 0.5333\n",
            "Epoch 16/200\n",
            "15/15 [==============================] - 6s 383ms/step - loss: 0.7933 - accuracy: 0.6500 - val_loss: 0.9960 - val_accuracy: 0.4667\n",
            "Epoch 17/200\n",
            "15/15 [==============================] - 6s 380ms/step - loss: 0.6870 - accuracy: 0.6710 - val_loss: 1.3621 - val_accuracy: 0.4667\n",
            "Epoch 18/200\n",
            "15/15 [==============================] - 6s 381ms/step - loss: 0.6060 - accuracy: 0.7189 - val_loss: 1.1659 - val_accuracy: 0.6000\n",
            "Epoch 19/200\n",
            "15/15 [==============================] - 6s 382ms/step - loss: 0.5813 - accuracy: 0.7131 - val_loss: 1.1189 - val_accuracy: 0.6000\n",
            "Epoch 20/200\n",
            "15/15 [==============================] - 6s 386ms/step - loss: 0.5909 - accuracy: 0.7437 - val_loss: 1.0197 - val_accuracy: 0.6667\n",
            "Epoch 21/200\n",
            "15/15 [==============================] - 6s 385ms/step - loss: 0.7173 - accuracy: 0.7041 - val_loss: 1.6981 - val_accuracy: 0.5333\n",
            "Epoch 22/200\n",
            "15/15 [==============================] - 6s 394ms/step - loss: 0.7424 - accuracy: 0.6595 - val_loss: 1.4707 - val_accuracy: 0.6000\n",
            "Epoch 23/200\n",
            "15/15 [==============================] - 6s 389ms/step - loss: 0.7128 - accuracy: 0.6972 - val_loss: 1.2515 - val_accuracy: 0.6000\n",
            "Epoch 24/200\n",
            "15/15 [==============================] - 6s 387ms/step - loss: 0.7124 - accuracy: 0.6798 - val_loss: 1.2284 - val_accuracy: 0.6667\n",
            "Epoch 25/200\n",
            "15/15 [==============================] - 6s 388ms/step - loss: 0.5717 - accuracy: 0.7044 - val_loss: 1.9125 - val_accuracy: 0.4667\n",
            "Epoch 26/200\n",
            "15/15 [==============================] - 6s 385ms/step - loss: 0.9313 - accuracy: 0.6007 - val_loss: 1.9652 - val_accuracy: 0.5333\n",
            "Epoch 27/200\n",
            "15/15 [==============================] - 6s 380ms/step - loss: 0.5196 - accuracy: 0.7545 - val_loss: 1.5559 - val_accuracy: 0.5333\n",
            "Epoch 28/200\n",
            "15/15 [==============================] - 6s 383ms/step - loss: 0.5736 - accuracy: 0.6898 - val_loss: 1.4085 - val_accuracy: 0.6667\n",
            "Epoch 29/200\n",
            "15/15 [==============================] - 6s 377ms/step - loss: 0.6047 - accuracy: 0.8262 - val_loss: 1.4197 - val_accuracy: 0.6667\n",
            "Epoch 30/200\n",
            "15/15 [==============================] - 6s 384ms/step - loss: 0.4964 - accuracy: 0.7774 - val_loss: 2.1487 - val_accuracy: 0.6000\n",
            "Epoch 31/200\n",
            "15/15 [==============================] - 6s 379ms/step - loss: 0.7201 - accuracy: 0.6543 - val_loss: 1.2840 - val_accuracy: 0.7333\n",
            "Epoch 32/200\n",
            "15/15 [==============================] - 6s 388ms/step - loss: 0.5202 - accuracy: 0.7377 - val_loss: 1.4188 - val_accuracy: 0.7333\n",
            "Epoch 33/200\n",
            "15/15 [==============================] - 6s 389ms/step - loss: 0.3739 - accuracy: 0.8459 - val_loss: 1.3873 - val_accuracy: 0.7333\n",
            "Epoch 34/200\n",
            "15/15 [==============================] - 6s 391ms/step - loss: 0.5163 - accuracy: 0.7694 - val_loss: 1.4637 - val_accuracy: 0.7333\n",
            "Epoch 35/200\n",
            "15/15 [==============================] - 6s 392ms/step - loss: 0.3245 - accuracy: 0.8860 - val_loss: 1.5510 - val_accuracy: 0.6000\n",
            "Epoch 36/200\n",
            "15/15 [==============================] - 6s 395ms/step - loss: 0.5784 - accuracy: 0.7599 - val_loss: 1.6828 - val_accuracy: 0.6667\n",
            "Epoch 37/200\n",
            "15/15 [==============================] - 6s 382ms/step - loss: 0.4998 - accuracy: 0.8038 - val_loss: 1.8696 - val_accuracy: 0.7333\n",
            "Epoch 38/200\n",
            "15/15 [==============================] - 6s 383ms/step - loss: 0.5303 - accuracy: 0.7114 - val_loss: 1.7959 - val_accuracy: 0.7333\n",
            "Epoch 39/200\n",
            "15/15 [==============================] - 6s 384ms/step - loss: 0.4767 - accuracy: 0.7519 - val_loss: 1.8105 - val_accuracy: 0.6667\n",
            "Epoch 40/200\n",
            "15/15 [==============================] - 6s 381ms/step - loss: 0.4038 - accuracy: 0.8400 - val_loss: 1.7063 - val_accuracy: 0.7333\n",
            "Epoch 41/200\n",
            "15/15 [==============================] - 6s 384ms/step - loss: 0.5662 - accuracy: 0.7176 - val_loss: 1.9334 - val_accuracy: 0.6000\n",
            "Epoch 42/200\n",
            "15/15 [==============================] - 6s 380ms/step - loss: 0.5531 - accuracy: 0.6590 - val_loss: 2.1019 - val_accuracy: 0.6667\n",
            "Epoch 43/200\n",
            "15/15 [==============================] - 6s 384ms/step - loss: 0.5405 - accuracy: 0.7045 - val_loss: 2.2166 - val_accuracy: 0.6667\n",
            "Epoch 44/200\n",
            "15/15 [==============================] - 6s 388ms/step - loss: 0.5946 - accuracy: 0.7422 - val_loss: 1.8366 - val_accuracy: 0.7333\n",
            "Epoch 45/200\n",
            "15/15 [==============================] - 6s 392ms/step - loss: 0.3062 - accuracy: 0.8141 - val_loss: 2.1513 - val_accuracy: 0.6667\n",
            "Epoch 46/200\n",
            "15/15 [==============================] - 6s 392ms/step - loss: 0.3980 - accuracy: 0.8071 - val_loss: 1.8244 - val_accuracy: 0.7333\n",
            "Epoch 47/200\n",
            "15/15 [==============================] - 6s 391ms/step - loss: 0.4897 - accuracy: 0.7605 - val_loss: 2.0331 - val_accuracy: 0.7333\n",
            "Epoch 48/200\n",
            "15/15 [==============================] - 6s 383ms/step - loss: 0.3601 - accuracy: 0.8261 - val_loss: 2.0100 - val_accuracy: 0.7333\n",
            "Epoch 49/200\n",
            "15/15 [==============================] - 6s 380ms/step - loss: 0.3889 - accuracy: 0.8288 - val_loss: 2.0241 - val_accuracy: 0.7333\n",
            "Epoch 50/200\n",
            "15/15 [==============================] - 6s 388ms/step - loss: 0.4003 - accuracy: 0.8157 - val_loss: 1.9951 - val_accuracy: 0.8000\n",
            "Epoch 51/200\n",
            "15/15 [==============================] - 6s 384ms/step - loss: 0.4984 - accuracy: 0.7745 - val_loss: 2.1127 - val_accuracy: 0.7333\n",
            "Epoch 52/200\n",
            "15/15 [==============================] - 6s 388ms/step - loss: 0.3475 - accuracy: 0.7897 - val_loss: 2.0810 - val_accuracy: 0.7333\n",
            "Epoch 53/200\n",
            "15/15 [==============================] - 6s 382ms/step - loss: 0.2412 - accuracy: 0.8932 - val_loss: 1.7909 - val_accuracy: 0.6667\n",
            "Epoch 54/200\n",
            "15/15 [==============================] - 6s 380ms/step - loss: 0.2855 - accuracy: 0.8913 - val_loss: 2.2011 - val_accuracy: 0.7333\n",
            "Epoch 55/200\n",
            "15/15 [==============================] - 6s 389ms/step - loss: 0.2373 - accuracy: 0.9191 - val_loss: 2.3913 - val_accuracy: 0.7333\n",
            "Epoch 56/200\n",
            "15/15 [==============================] - 6s 394ms/step - loss: 0.3739 - accuracy: 0.8853 - val_loss: 2.3393 - val_accuracy: 0.6667\n",
            "Epoch 57/200\n",
            "15/15 [==============================] - 6s 388ms/step - loss: 0.3281 - accuracy: 0.8152 - val_loss: 2.4511 - val_accuracy: 0.7333\n",
            "Epoch 58/200\n",
            "15/15 [==============================] - 6s 391ms/step - loss: 0.1915 - accuracy: 0.9108 - val_loss: 2.7773 - val_accuracy: 0.7333\n",
            "Epoch 59/200\n",
            "15/15 [==============================] - 6s 387ms/step - loss: 0.4181 - accuracy: 0.8332 - val_loss: 2.3064 - val_accuracy: 0.7333\n",
            "Epoch 60/200\n",
            "15/15 [==============================] - 6s 384ms/step - loss: 0.4851 - accuracy: 0.8271 - val_loss: 2.1802 - val_accuracy: 0.6667\n",
            "Epoch 61/200\n",
            "15/15 [==============================] - 6s 387ms/step - loss: 0.4633 - accuracy: 0.7454 - val_loss: 2.3482 - val_accuracy: 0.7333\n",
            "Epoch 62/200\n",
            "15/15 [==============================] - 6s 392ms/step - loss: 0.2608 - accuracy: 0.8594 - val_loss: 2.2898 - val_accuracy: 0.7333\n",
            "Epoch 63/200\n",
            "15/15 [==============================] - 6s 385ms/step - loss: 0.3236 - accuracy: 0.8721 - val_loss: 2.1421 - val_accuracy: 0.7333\n",
            "Epoch 64/200\n",
            "15/15 [==============================] - 6s 395ms/step - loss: 0.5562 - accuracy: 0.8013 - val_loss: 2.1702 - val_accuracy: 0.7333\n",
            "Epoch 65/200\n",
            "15/15 [==============================] - 6s 388ms/step - loss: 0.2791 - accuracy: 0.8276 - val_loss: 2.4653 - val_accuracy: 0.7333\n",
            "Epoch 66/200\n",
            "15/15 [==============================] - 6s 386ms/step - loss: 0.3494 - accuracy: 0.8349 - val_loss: 2.1872 - val_accuracy: 0.7333\n",
            "Epoch 67/200\n",
            "15/15 [==============================] - 6s 382ms/step - loss: 0.3278 - accuracy: 0.8402 - val_loss: 1.6595 - val_accuracy: 0.7333\n",
            "Epoch 68/200\n",
            "15/15 [==============================] - 6s 383ms/step - loss: 0.1712 - accuracy: 0.9083 - val_loss: 1.8648 - val_accuracy: 0.7333\n",
            "Epoch 69/200\n",
            "15/15 [==============================] - 6s 381ms/step - loss: 0.2488 - accuracy: 0.8641 - val_loss: 0.6277 - val_accuracy: 0.7333\n",
            "Epoch 70/200\n",
            "15/15 [==============================] - 6s 377ms/step - loss: 0.3185 - accuracy: 0.8319 - val_loss: 0.9233 - val_accuracy: 0.7333\n",
            "Epoch 71/200\n",
            "15/15 [==============================] - 6s 378ms/step - loss: 0.3943 - accuracy: 0.7507 - val_loss: 0.7862 - val_accuracy: 0.8000\n",
            "Epoch 72/200\n",
            "15/15 [==============================] - 6s 385ms/step - loss: 0.2533 - accuracy: 0.9298 - val_loss: 2.5763 - val_accuracy: 0.7333\n",
            "Epoch 73/200\n",
            "15/15 [==============================] - 6s 398ms/step - loss: 0.2807 - accuracy: 0.8758 - val_loss: 2.3608 - val_accuracy: 0.7333\n",
            "Epoch 74/200\n",
            "15/15 [==============================] - 6s 389ms/step - loss: 0.3650 - accuracy: 0.8586 - val_loss: 1.9740 - val_accuracy: 0.7333\n",
            "Epoch 75/200\n",
            "15/15 [==============================] - 6s 391ms/step - loss: 0.3857 - accuracy: 0.8200 - val_loss: 1.1096 - val_accuracy: 0.7333\n",
            "Epoch 76/200\n",
            "15/15 [==============================] - 6s 393ms/step - loss: 0.2331 - accuracy: 0.8829 - val_loss: 1.2341 - val_accuracy: 0.7333\n",
            "Epoch 77/200\n",
            "15/15 [==============================] - 6s 383ms/step - loss: 0.0948 - accuracy: 0.9619 - val_loss: 2.1092 - val_accuracy: 0.7333\n",
            "Epoch 78/200\n",
            "15/15 [==============================] - 6s 385ms/step - loss: 0.2147 - accuracy: 0.8982 - val_loss: 1.7804 - val_accuracy: 0.8000\n",
            "Epoch 79/200\n",
            "15/15 [==============================] - 6s 389ms/step - loss: 0.1912 - accuracy: 0.9251 - val_loss: 2.4738 - val_accuracy: 0.7333\n",
            "Epoch 80/200\n",
            "15/15 [==============================] - 6s 386ms/step - loss: 0.1479 - accuracy: 0.9475 - val_loss: 1.7388 - val_accuracy: 0.7333\n",
            "Epoch 81/200\n",
            "15/15 [==============================] - 6s 385ms/step - loss: 0.2700 - accuracy: 0.9262 - val_loss: 2.5601 - val_accuracy: 0.7333\n",
            "Epoch 82/200\n",
            "15/15 [==============================] - 6s 386ms/step - loss: 0.3316 - accuracy: 0.8560 - val_loss: 2.4827 - val_accuracy: 0.6667\n",
            "Epoch 83/200\n",
            "15/15 [==============================] - 6s 379ms/step - loss: 0.3189 - accuracy: 0.9097 - val_loss: 2.4298 - val_accuracy: 0.8000\n",
            "Epoch 84/200\n",
            "15/15 [==============================] - 6s 392ms/step - loss: 0.2182 - accuracy: 0.8948 - val_loss: 2.8700 - val_accuracy: 0.8000\n",
            "Epoch 85/200\n",
            "15/15 [==============================] - 6s 398ms/step - loss: 0.2169 - accuracy: 0.8798 - val_loss: 2.8972 - val_accuracy: 0.7333\n",
            "Epoch 86/200\n",
            "15/15 [==============================] - 6s 395ms/step - loss: 0.4414 - accuracy: 0.8216 - val_loss: 2.9073 - val_accuracy: 0.7333\n",
            "Epoch 87/200\n",
            "15/15 [==============================] - 6s 402ms/step - loss: 0.2832 - accuracy: 0.9014 - val_loss: 3.0593 - val_accuracy: 0.7333\n",
            "Epoch 88/200\n",
            "15/15 [==============================] - 6s 391ms/step - loss: 0.1514 - accuracy: 0.9197 - val_loss: 0.9945 - val_accuracy: 0.7333\n",
            "Epoch 89/200\n",
            "15/15 [==============================] - 6s 384ms/step - loss: 0.1115 - accuracy: 0.9495 - val_loss: 2.5854 - val_accuracy: 0.7333\n",
            "Epoch 90/200\n",
            "15/15 [==============================] - 6s 386ms/step - loss: 0.2623 - accuracy: 0.8963 - val_loss: 2.6256 - val_accuracy: 0.7333\n",
            "Epoch 91/200\n",
            "15/15 [==============================] - 6s 389ms/step - loss: 0.1704 - accuracy: 0.9522 - val_loss: 2.6408 - val_accuracy: 0.7333\n",
            "Epoch 92/200\n",
            "15/15 [==============================] - 6s 382ms/step - loss: 0.0791 - accuracy: 0.9717 - val_loss: 2.5630 - val_accuracy: 0.7333\n",
            "Epoch 93/200\n",
            "15/15 [==============================] - 6s 385ms/step - loss: 0.3677 - accuracy: 0.8742 - val_loss: 1.4517 - val_accuracy: 0.7333\n",
            "Epoch 94/200\n",
            "15/15 [==============================] - 6s 388ms/step - loss: 0.3009 - accuracy: 0.8544 - val_loss: 1.7476 - val_accuracy: 0.7333\n",
            "Epoch 95/200\n",
            "15/15 [==============================] - 6s 387ms/step - loss: 0.1776 - accuracy: 0.9558 - val_loss: 1.7704 - val_accuracy: 0.7333\n",
            "Epoch 96/200\n",
            "15/15 [==============================] - 6s 396ms/step - loss: 0.2124 - accuracy: 0.9219 - val_loss: 1.7729 - val_accuracy: 0.7333\n",
            "Epoch 97/200\n",
            "15/15 [==============================] - 6s 394ms/step - loss: 0.3008 - accuracy: 0.8662 - val_loss: 2.1081 - val_accuracy: 0.7333\n",
            "Epoch 98/200\n",
            "15/15 [==============================] - 6s 392ms/step - loss: 0.2285 - accuracy: 0.8760 - val_loss: 2.5842 - val_accuracy: 0.7333\n",
            "Epoch 99/200\n",
            "15/15 [==============================] - 6s 400ms/step - loss: 0.4955 - accuracy: 0.8594 - val_loss: 2.0317 - val_accuracy: 0.7333\n",
            "Epoch 100/200\n",
            "15/15 [==============================] - 6s 387ms/step - loss: 0.0943 - accuracy: 0.9721 - val_loss: 2.3757 - val_accuracy: 0.7333\n",
            "Epoch 101/200\n",
            "15/15 [==============================] - 6s 383ms/step - loss: 0.3382 - accuracy: 0.8794 - val_loss: 3.0773 - val_accuracy: 0.7333\n",
            "Epoch 102/200\n",
            "15/15 [==============================] - 6s 384ms/step - loss: 0.3006 - accuracy: 0.8576 - val_loss: 2.3477 - val_accuracy: 0.7333\n",
            "Epoch 103/200\n",
            "15/15 [==============================] - 6s 385ms/step - loss: 0.2446 - accuracy: 0.8712 - val_loss: 2.3602 - val_accuracy: 0.7333\n",
            "Epoch 104/200\n",
            "15/15 [==============================] - 6s 391ms/step - loss: 0.1154 - accuracy: 0.9580 - val_loss: 2.4832 - val_accuracy: 0.7333\n",
            "Epoch 105/200\n",
            "15/15 [==============================] - 6s 387ms/step - loss: 0.2423 - accuracy: 0.9355 - val_loss: 2.4866 - val_accuracy: 0.7333\n",
            "Epoch 106/200\n",
            "15/15 [==============================] - 6s 386ms/step - loss: 0.1734 - accuracy: 0.9044 - val_loss: 2.5993 - val_accuracy: 0.7333\n",
            "Epoch 107/200\n",
            "15/15 [==============================] - 6s 388ms/step - loss: 0.2104 - accuracy: 0.9602 - val_loss: 2.6394 - val_accuracy: 0.7333\n",
            "Epoch 108/200\n",
            "15/15 [==============================] - 6s 392ms/step - loss: 0.1487 - accuracy: 0.9146 - val_loss: 2.7477 - val_accuracy: 0.7333\n",
            "Epoch 109/200\n",
            "15/15 [==============================] - 6s 394ms/step - loss: 0.1802 - accuracy: 0.9246 - val_loss: 3.2290 - val_accuracy: 0.7333\n",
            "Epoch 110/200\n",
            "15/15 [==============================] - 6s 389ms/step - loss: 0.2340 - accuracy: 0.8820 - val_loss: 3.1981 - val_accuracy: 0.7333\n",
            "Epoch 111/200\n",
            "15/15 [==============================] - 6s 388ms/step - loss: 0.1288 - accuracy: 0.9268 - val_loss: 3.1710 - val_accuracy: 0.7333\n",
            "Epoch 112/200\n",
            "15/15 [==============================] - 6s 389ms/step - loss: 0.2739 - accuracy: 0.8439 - val_loss: 3.2444 - val_accuracy: 0.7333\n",
            "Epoch 113/200\n",
            "15/15 [==============================] - 6s 398ms/step - loss: 0.2415 - accuracy: 0.9352 - val_loss: 3.2114 - val_accuracy: 0.7333\n",
            "Epoch 114/200\n",
            "15/15 [==============================] - 6s 383ms/step - loss: 0.4042 - accuracy: 0.8282 - val_loss: 3.2184 - val_accuracy: 0.7333\n",
            "Epoch 115/200\n",
            "15/15 [==============================] - 6s 389ms/step - loss: 0.1129 - accuracy: 0.9459 - val_loss: 3.2763 - val_accuracy: 0.7333\n",
            "Epoch 116/200\n",
            "15/15 [==============================] - 6s 381ms/step - loss: 0.1795 - accuracy: 0.8925 - val_loss: 3.2206 - val_accuracy: 0.7333\n",
            "Epoch 117/200\n",
            "15/15 [==============================] - 6s 380ms/step - loss: 0.3106 - accuracy: 0.8418 - val_loss: 3.2597 - val_accuracy: 0.7333\n",
            "Epoch 118/200\n",
            "15/15 [==============================] - 6s 389ms/step - loss: 0.3150 - accuracy: 0.8598 - val_loss: 4.3089 - val_accuracy: 0.7333\n",
            "Epoch 119/200\n",
            "15/15 [==============================] - 6s 398ms/step - loss: 0.1608 - accuracy: 0.9299 - val_loss: 4.3811 - val_accuracy: 0.7333\n",
            "Epoch 120/200\n",
            "15/15 [==============================] - 6s 391ms/step - loss: 0.2129 - accuracy: 0.9331 - val_loss: 4.4300 - val_accuracy: 0.7333\n",
            "Epoch 121/200\n",
            "15/15 [==============================] - 6s 392ms/step - loss: 0.0877 - accuracy: 0.9782 - val_loss: 4.3865 - val_accuracy: 0.7333\n",
            "Epoch 122/200\n",
            "15/15 [==============================] - 6s 387ms/step - loss: 0.2781 - accuracy: 0.8821 - val_loss: 4.4317 - val_accuracy: 0.7333\n",
            "Epoch 123/200\n",
            "15/15 [==============================] - 6s 384ms/step - loss: 0.1725 - accuracy: 0.8877 - val_loss: 4.1267 - val_accuracy: 0.7333\n",
            "Epoch 124/200\n",
            "15/15 [==============================] - 6s 395ms/step - loss: 0.1010 - accuracy: 0.9639 - val_loss: 4.2022 - val_accuracy: 0.7333\n",
            "Epoch 125/200\n",
            "15/15 [==============================] - 6s 389ms/step - loss: 0.2412 - accuracy: 0.9003 - val_loss: 4.1909 - val_accuracy: 0.7333\n",
            "Epoch 126/200\n",
            "15/15 [==============================] - 6s 394ms/step - loss: 0.1848 - accuracy: 0.8815 - val_loss: 4.2404 - val_accuracy: 0.7333\n",
            "Epoch 127/200\n",
            "15/15 [==============================] - 6s 398ms/step - loss: 0.1820 - accuracy: 0.9418 - val_loss: 4.2621 - val_accuracy: 0.7333\n",
            "Epoch 128/200\n",
            "15/15 [==============================] - 6s 381ms/step - loss: 0.0932 - accuracy: 0.9739 - val_loss: 4.1653 - val_accuracy: 0.7333\n",
            "Epoch 129/200\n",
            "15/15 [==============================] - 6s 384ms/step - loss: 0.1764 - accuracy: 0.9162 - val_loss: 4.4945 - val_accuracy: 0.7333\n",
            "Epoch 130/200\n",
            "15/15 [==============================] - 6s 383ms/step - loss: 0.1152 - accuracy: 0.9339 - val_loss: 4.2776 - val_accuracy: 0.7333\n",
            "Epoch 131/200\n",
            "15/15 [==============================] - 6s 386ms/step - loss: 0.1575 - accuracy: 0.9323 - val_loss: 3.5879 - val_accuracy: 0.7333\n",
            "Epoch 132/200\n",
            "15/15 [==============================] - 6s 387ms/step - loss: 0.1110 - accuracy: 0.9600 - val_loss: 3.5889 - val_accuracy: 0.7333\n",
            "Epoch 133/200\n",
            "15/15 [==============================] - 6s 385ms/step - loss: 0.1186 - accuracy: 0.9345 - val_loss: 3.6853 - val_accuracy: 0.7333\n",
            "Epoch 134/200\n",
            "15/15 [==============================] - 6s 386ms/step - loss: 0.1689 - accuracy: 0.8900 - val_loss: 3.6369 - val_accuracy: 0.7333\n",
            "Epoch 135/200\n",
            "15/15 [==============================] - 6s 391ms/step - loss: 0.1145 - accuracy: 0.9237 - val_loss: 4.1574 - val_accuracy: 0.7333\n",
            "Epoch 136/200\n",
            "15/15 [==============================] - 6s 388ms/step - loss: 0.2598 - accuracy: 0.8706 - val_loss: 3.5664 - val_accuracy: 0.7333\n",
            "Epoch 137/200\n",
            "15/15 [==============================] - 6s 394ms/step - loss: 0.1698 - accuracy: 0.9157 - val_loss: 3.5602 - val_accuracy: 0.7333\n",
            "Epoch 138/200\n",
            "15/15 [==============================] - 6s 395ms/step - loss: 0.1170 - accuracy: 0.9179 - val_loss: 3.8150 - val_accuracy: 0.7333\n",
            "Epoch 139/200\n",
            "15/15 [==============================] - 6s 389ms/step - loss: 0.0799 - accuracy: 0.9707 - val_loss: 3.8173 - val_accuracy: 0.8000\n",
            "Epoch 140/200\n",
            "15/15 [==============================] - 6s 381ms/step - loss: 0.1865 - accuracy: 0.9126 - val_loss: 3.8283 - val_accuracy: 0.7333\n",
            "Epoch 141/200\n",
            "15/15 [==============================] - 6s 385ms/step - loss: 0.1042 - accuracy: 0.9371 - val_loss: 3.8627 - val_accuracy: 0.8000\n",
            "Epoch 142/200\n",
            "15/15 [==============================] - 6s 383ms/step - loss: 0.2119 - accuracy: 0.9381 - val_loss: 3.9223 - val_accuracy: 0.8000\n",
            "Epoch 143/200\n",
            "15/15 [==============================] - 6s 389ms/step - loss: 0.0681 - accuracy: 0.9598 - val_loss: 3.9193 - val_accuracy: 0.7333\n",
            "Epoch 144/200\n",
            "15/15 [==============================] - 6s 380ms/step - loss: 0.0990 - accuracy: 0.9618 - val_loss: 3.9646 - val_accuracy: 0.7333\n",
            "Epoch 145/200\n",
            "15/15 [==============================] - 6s 398ms/step - loss: 0.1426 - accuracy: 0.9167 - val_loss: 4.0910 - val_accuracy: 0.7333\n",
            "Epoch 146/200\n",
            "15/15 [==============================] - 6s 393ms/step - loss: 0.1631 - accuracy: 0.9120 - val_loss: 3.9141 - val_accuracy: 0.7333\n",
            "Epoch 147/200\n",
            "15/15 [==============================] - 6s 396ms/step - loss: 0.1408 - accuracy: 0.9426 - val_loss: 3.9623 - val_accuracy: 0.8000\n",
            "Epoch 148/200\n",
            "15/15 [==============================] - 6s 402ms/step - loss: 0.0733 - accuracy: 0.9552 - val_loss: 3.9537 - val_accuracy: 0.7333\n",
            "Epoch 149/200\n",
            "15/15 [==============================] - 6s 389ms/step - loss: 0.0685 - accuracy: 0.9818 - val_loss: 3.9693 - val_accuracy: 0.7333\n",
            "Epoch 150/200\n",
            "15/15 [==============================] - 6s 393ms/step - loss: 0.1524 - accuracy: 0.9208 - val_loss: 4.0051 - val_accuracy: 0.7333\n",
            "Epoch 151/200\n",
            "15/15 [==============================] - 6s 383ms/step - loss: 0.1645 - accuracy: 0.9230 - val_loss: 4.0240 - val_accuracy: 0.7333\n",
            "Epoch 152/200\n",
            "15/15 [==============================] - 6s 382ms/step - loss: 0.1951 - accuracy: 0.8899 - val_loss: 4.1042 - val_accuracy: 0.7333\n",
            "Epoch 153/200\n",
            "15/15 [==============================] - 6s 385ms/step - loss: 0.2550 - accuracy: 0.9302 - val_loss: 4.1258 - val_accuracy: 0.7333\n",
            "Epoch 154/200\n",
            "15/15 [==============================] - 6s 386ms/step - loss: 0.1872 - accuracy: 0.9237 - val_loss: 4.0970 - val_accuracy: 0.7333\n",
            "Epoch 155/200\n",
            "15/15 [==============================] - 6s 385ms/step - loss: 0.0670 - accuracy: 0.9713 - val_loss: 4.0656 - val_accuracy: 0.7333\n",
            "Epoch 156/200\n",
            "15/15 [==============================] - 6s 387ms/step - loss: 0.0607 - accuracy: 0.9635 - val_loss: 4.0368 - val_accuracy: 0.7333\n",
            "Epoch 157/200\n",
            "15/15 [==============================] - 6s 387ms/step - loss: 0.1522 - accuracy: 0.9230 - val_loss: 4.0488 - val_accuracy: 0.7333\n",
            "Epoch 158/200\n",
            "15/15 [==============================] - 6s 390ms/step - loss: 0.1351 - accuracy: 0.9807 - val_loss: 4.1144 - val_accuracy: 0.7333\n",
            "Epoch 159/200\n",
            "15/15 [==============================] - 6s 398ms/step - loss: 0.1770 - accuracy: 0.9307 - val_loss: 4.0276 - val_accuracy: 0.7333\n",
            "Epoch 160/200\n",
            "15/15 [==============================] - 6s 397ms/step - loss: 0.1707 - accuracy: 0.9699 - val_loss: 4.0564 - val_accuracy: 0.7333\n",
            "Epoch 161/200\n",
            "15/15 [==============================] - 6s 399ms/step - loss: 0.1687 - accuracy: 0.9052 - val_loss: 4.0740 - val_accuracy: 0.7333\n",
            "Epoch 162/200\n",
            "15/15 [==============================] - 6s 387ms/step - loss: 0.1415 - accuracy: 0.9394 - val_loss: 4.1001 - val_accuracy: 0.7333\n",
            "Epoch 163/200\n",
            "15/15 [==============================] - 6s 384ms/step - loss: 0.0554 - accuracy: 0.9577 - val_loss: 4.1383 - val_accuracy: 0.7333\n",
            "Epoch 164/200\n",
            "15/15 [==============================] - 6s 389ms/step - loss: 0.1047 - accuracy: 0.9724 - val_loss: 4.1493 - val_accuracy: 0.7333\n",
            "Epoch 165/200\n",
            "15/15 [==============================] - 6s 383ms/step - loss: 0.0928 - accuracy: 0.9550 - val_loss: 4.1653 - val_accuracy: 0.7333\n",
            "Epoch 166/200\n",
            "15/15 [==============================] - 6s 385ms/step - loss: 0.0851 - accuracy: 0.9683 - val_loss: 4.2085 - val_accuracy: 0.7333\n",
            "Epoch 167/200\n",
            "15/15 [==============================] - 6s 380ms/step - loss: 0.2660 - accuracy: 0.8936 - val_loss: 4.1388 - val_accuracy: 0.7333\n",
            "Epoch 168/200\n",
            "15/15 [==============================] - 6s 385ms/step - loss: 0.2411 - accuracy: 0.9582 - val_loss: 4.1180 - val_accuracy: 0.7333\n",
            "Epoch 169/200\n",
            "15/15 [==============================] - 6s 389ms/step - loss: 0.0974 - accuracy: 0.9854 - val_loss: 4.1418 - val_accuracy: 0.7333\n",
            "Epoch 170/200\n",
            "15/15 [==============================] - 6s 393ms/step - loss: 0.1752 - accuracy: 0.9260 - val_loss: 4.1451 - val_accuracy: 0.7333\n",
            "Epoch 171/200\n",
            "15/15 [==============================] - 6s 402ms/step - loss: 0.1995 - accuracy: 0.9401 - val_loss: 4.2061 - val_accuracy: 0.8000\n",
            "Epoch 172/200\n",
            "15/15 [==============================] - 6s 392ms/step - loss: 0.0805 - accuracy: 0.9769 - val_loss: 4.1697 - val_accuracy: 0.7333\n",
            "Epoch 173/200\n",
            "15/15 [==============================] - 6s 392ms/step - loss: 0.0775 - accuracy: 0.9783 - val_loss: 4.1181 - val_accuracy: 0.7333\n",
            "Epoch 174/200\n",
            "15/15 [==============================] - 6s 380ms/step - loss: 0.1431 - accuracy: 0.9241 - val_loss: 4.0959 - val_accuracy: 0.7333\n",
            "Epoch 175/200\n",
            "15/15 [==============================] - 6s 392ms/step - loss: 0.2374 - accuracy: 0.9383 - val_loss: 4.1336 - val_accuracy: 0.7333\n",
            "Epoch 176/200\n",
            "15/15 [==============================] - 6s 401ms/step - loss: 0.1147 - accuracy: 0.9699 - val_loss: 4.1309 - val_accuracy: 0.7333\n",
            "Epoch 177/200\n",
            "15/15 [==============================] - 6s 396ms/step - loss: 0.1162 - accuracy: 0.9703 - val_loss: 4.1760 - val_accuracy: 0.8000\n",
            "Epoch 178/200\n",
            "15/15 [==============================] - 6s 395ms/step - loss: 0.1949 - accuracy: 0.9129 - val_loss: 4.2632 - val_accuracy: 0.7333\n",
            "Epoch 179/200\n",
            "15/15 [==============================] - 6s 397ms/step - loss: 0.0900 - accuracy: 0.9299 - val_loss: 4.1947 - val_accuracy: 0.7333\n",
            "Epoch 180/200\n",
            "15/15 [==============================] - 6s 385ms/step - loss: 0.1842 - accuracy: 0.9426 - val_loss: 4.2172 - val_accuracy: 0.7333\n",
            "Epoch 181/200\n",
            "15/15 [==============================] - 6s 385ms/step - loss: 0.0725 - accuracy: 0.9650 - val_loss: 4.2753 - val_accuracy: 0.7333\n",
            "Epoch 182/200\n",
            "15/15 [==============================] - 6s 390ms/step - loss: 0.0560 - accuracy: 0.9810 - val_loss: 4.2796 - val_accuracy: 0.7333\n",
            "Epoch 183/200\n",
            "15/15 [==============================] - 6s 380ms/step - loss: 0.1135 - accuracy: 0.9637 - val_loss: 4.2511 - val_accuracy: 0.7333\n",
            "Epoch 184/200\n",
            "15/15 [==============================] - 6s 385ms/step - loss: 0.0964 - accuracy: 0.9413 - val_loss: 4.2648 - val_accuracy: 0.7333\n",
            "Epoch 185/200\n",
            "15/15 [==============================] - 6s 383ms/step - loss: 0.0747 - accuracy: 0.9771 - val_loss: 4.2429 - val_accuracy: 0.7333\n",
            "Epoch 186/200\n",
            "15/15 [==============================] - 6s 396ms/step - loss: 0.2175 - accuracy: 0.9054 - val_loss: 4.3450 - val_accuracy: 0.7333\n",
            "Epoch 187/200\n",
            "15/15 [==============================] - 6s 396ms/step - loss: 0.0509 - accuracy: 0.9806 - val_loss: 4.2929 - val_accuracy: 0.7333\n",
            "Epoch 188/200\n",
            "15/15 [==============================] - 6s 399ms/step - loss: 0.1013 - accuracy: 0.9366 - val_loss: 4.3214 - val_accuracy: 0.7333\n",
            "Epoch 189/200\n",
            "15/15 [==============================] - 6s 396ms/step - loss: 0.1303 - accuracy: 0.9444 - val_loss: 4.3054 - val_accuracy: 0.8000\n",
            "Epoch 190/200\n",
            "15/15 [==============================] - 6s 392ms/step - loss: 0.0556 - accuracy: 0.9895 - val_loss: 4.3418 - val_accuracy: 0.7333\n",
            "Epoch 191/200\n",
            "15/15 [==============================] - 6s 385ms/step - loss: 0.2137 - accuracy: 0.9166 - val_loss: 4.3844 - val_accuracy: 0.7333\n",
            "Epoch 192/200\n",
            "15/15 [==============================] - 6s 387ms/step - loss: 0.0457 - accuracy: 0.9827 - val_loss: 4.3869 - val_accuracy: 0.7333\n",
            "Epoch 193/200\n",
            "15/15 [==============================] - 6s 383ms/step - loss: 0.0618 - accuracy: 0.9870 - val_loss: 4.3843 - val_accuracy: 0.7333\n",
            "Epoch 194/200\n",
            "15/15 [==============================] - 6s 381ms/step - loss: 0.0393 - accuracy: 0.9898 - val_loss: 4.3945 - val_accuracy: 0.7333\n",
            "Epoch 195/200\n",
            "15/15 [==============================] - 6s 381ms/step - loss: 0.1246 - accuracy: 0.9279 - val_loss: 4.4124 - val_accuracy: 0.8000\n",
            "Epoch 196/200\n",
            "15/15 [==============================] - 6s 383ms/step - loss: 0.1865 - accuracy: 0.9279 - val_loss: 4.3773 - val_accuracy: 0.7333\n",
            "Epoch 197/200\n",
            "15/15 [==============================] - 6s 383ms/step - loss: 0.1805 - accuracy: 0.9376 - val_loss: 4.4375 - val_accuracy: 0.7333\n",
            "Epoch 198/200\n",
            "15/15 [==============================] - 6s 392ms/step - loss: 0.0738 - accuracy: 0.9883 - val_loss: 4.4441 - val_accuracy: 0.7333\n",
            "Epoch 199/200\n",
            "15/15 [==============================] - 6s 396ms/step - loss: 0.0560 - accuracy: 0.9810 - val_loss: 4.4500 - val_accuracy: 0.7333\n",
            "Epoch 200/200\n",
            "15/15 [==============================] - 6s 398ms/step - loss: 0.0976 - accuracy: 0.9518 - val_loss: 4.4848 - val_accuracy: 0.7333\n"
          ],
          "name": "stdout"
        }
      ]
    },
    {
      "cell_type": "markdown",
      "metadata": {
        "id": "EnfK7H6rpXs5"
      },
      "source": [
        "Save Model"
      ]
    },
    {
      "cell_type": "code",
      "metadata": {
        "id": "FFlMD__fsMvr"
      },
      "source": [
        "import datetime as dt\n",
        "\n",
        "#save the whole model \n",
        "#save the model \n",
        "# Creating a useful name for our model, incase you're saving multiple models (OPTIONAL)\n",
        "date_time_format = '%Y_%m_%d__%H_%M_%S'\n",
        "current_date_time_dt = dt.datetime.now()\n",
        "current_date_time_string = dt.datetime.strftime(current_date_time_dt, date_time_format)\n",
        "validation_loss = history.history['val_loss']\n",
        "validation_accuracy = history.history['val_accuracy']\n",
        "model_name = f'Model___Date_Time_{current_date_time_string}.h5'\n",
        "\n",
        "# Saving your Model\n",
        "model.save(model_name)"
      ],
      "execution_count": 68,
      "outputs": []
    },
    {
      "cell_type": "markdown",
      "metadata": {
        "id": "Th_kgR4etPln"
      },
      "source": [
        "#Plot history"
      ]
    },
    {
      "cell_type": "code",
      "metadata": {
        "id": "XSa5gyyOr1wo"
      },
      "source": [
        "def plot_metric(metric_name_1, metric_name_2, plot_name):\n",
        "  # Get Metric values using metric names as identifiers\n",
        "  metric_value_1 = history.history[metric_name_1]\n",
        "  metric_value_2 = history.history[metric_name_2]\n",
        "\n",
        "  # Constructing a range object which will be used as time \n",
        "  epochs = range(len(metric_value_1))\n",
        "  \n",
        "  # Plotting the Graph\n",
        "  plt.plot(epochs, metric_value_1, 'blue', label = metric_name_1)\n",
        "  plt.plot(epochs, metric_value_2, 'red', label = metric_name_2)\n",
        "  \n",
        "  # Adding title to the plot\n",
        "  plt.title(str(plot_name))\n",
        "\n",
        "  # Adding legend to the plot\n",
        "  plt.legend()"
      ],
      "execution_count": 69,
      "outputs": []
    },
    {
      "cell_type": "code",
      "metadata": {
        "colab": {
          "base_uri": "https://localhost:8080/",
          "height": 281
        },
        "id": "wz2vhRNrsiTe",
        "outputId": "bbda3ba7-1e17-4421-f03c-37b078d69049"
      },
      "source": [
        "plot_metric('loss', 'val_loss', 'Total Loss vs Total Validation Loss')\n"
      ],
      "execution_count": 70,
      "outputs": [
        {
          "output_type": "display_data",
          "data": {
            "image/png": "[encoded data removed]",
            "text/plain": [
              "<Figure size 432x288 with 1 Axes>"
            ]
          },
          "metadata": {
            "tags": [],
            "needs_background": "light"
          }
        }
      ]
    },
    {
      "cell_type": "code",
      "metadata": {
        "colab": {
          "base_uri": "https://localhost:8080/",
          "height": 281
        },
        "id": "7I4WBam7uWuw",
        "outputId": "b8ea7ff8-59e6-49df-93d7-416286301c88"
      },
      "source": [
        "plot_metric('accuracy', 'val_accuracy', 'Total Accuracy vs Total Validation Accuracy')\n"
      ],
      "execution_count": 71,
      "outputs": [
        {
          "output_type": "display_data",
          "data": {
            "image/png": "[encoded data removed]",
            "text/plain": [
              "<Figure size 432x288 with 1 Axes>"
            ]
          },
          "metadata": {
            "tags": [],
            "needs_background": "light"
          }
        }
      ]
    },
    {
      "cell_type": "markdown",
      "metadata": {
        "id": "bvD6ACVMxe8r"
      },
      "source": [
        "#predict on a new video "
      ]
    },
    {
      "cell_type": "code",
      "metadata": {
        "id": "T8jMTzXwx3TY"
      },
      "source": [
        "#function to extract frames live \n",
        "def extract_vgg16_features_live(model, video_input_file_path):\n",
        "    print('Extracting frames from video: ', video_input_file_path)\n",
        "    vidcap = cv2.VideoCapture(video_input_file_path)\n",
        "    success, image = vidcap.read()\n",
        "    features = []\n",
        "    success = True\n",
        "    count = 0\n",
        "    while success:\n",
        "        vidcap.set(cv2.CAP_PROP_POS_MSEC, (count * 1000))  # added this line\n",
        "        success, image = vidcap.read()\n",
        "        # print('Read a new frame: ', success)\n",
        "        if success:\n",
        "            img = cv2.resize(image, (224, 224), interpolation=cv2.INTER_AREA)\n",
        "            input = img_to_array(img)\n",
        "            input = np.expand_dims(input, axis=0)\n",
        "            input = preprocess_input(input)\n",
        "            feature = model.predict(input).ravel()\n",
        "            features.append(feature)\n",
        "            count = count + 1\n",
        "    unscaled_features = np.array(features)\n",
        "    return unscaled_features"
      ],
      "execution_count": 72,
      "outputs": []
    },
    {
      "cell_type": "code",
      "metadata": {
        "id": "Y5fJ3-ZEx_EC"
      },
      "source": [
        "#function to predict on the video that had features extracted in 'extract_vg_features_live' func\n",
        "def predict_on_video(base_model, model, video_file_path):\n",
        "    x = extract_vgg16_features_live(base_model, video_file_path)\n",
        "    frames = x.shape[0]\n",
        "    if frames > expected_frames:\n",
        "        x = x[0:expected_frames, :]\n",
        "    elif frames < expected_frames:\n",
        "        temp = np.zeros(shape=(expected_frames, x.shape[1]))\n",
        "        temp[0:frames, :] = x\n",
        "        x = temp\n",
        "    predicted_class = np.argmax(model.predict(np.array([x]))[0])\n",
        "    predicted_label = labels_idx2word[predicted_class]\n",
        "    return predicted_label\n"
      ],
      "execution_count": 90,
      "outputs": []
    },
    {
      "cell_type": "code",
      "metadata": {
        "id": "kmTRCUTW2TvR"
      },
      "source": [
        "#definition for changing an index \n",
        "labels_idx2word = dict([(idx, word) for word, idx in labels.items()])\n",
        "\n"
      ],
      "execution_count": 88,
      "outputs": []
    },
    {
      "cell_type": "code",
      "metadata": {
        "colab": {
          "base_uri": "https://localhost:8080/"
        },
        "id": "gwdAZJq-yuI6",
        "outputId": "c047c769-26a2-4ff3-8722-ec24b436c89c"
      },
      "source": [
        "#predict on a video \n",
        "video_path = '/content/drive/MyDrive/test/Digging/Digging_14.mp4'\n",
        "label = predict_on_video(base_model=base_model, model=model, video_file_path=video_path )"
      ],
      "execution_count": 99,
      "outputs": [
        {
          "output_type": "stream",
          "text": [
            "Extracting frames from video:  /content/drive/MyDrive/test/Digging/Digging_14.mp4\n"
          ],
          "name": "stdout"
        }
      ]
    },
    {
      "cell_type": "code",
      "metadata": {
        "colab": {
          "base_uri": "https://localhost:8080/"
        },
        "id": "wXS6XgzRzEvr",
        "outputId": "56d079fe-e770-4148-ddd6-9678c942fb31"
      },
      "source": [
        "print(label)"
      ],
      "execution_count": 100,
      "outputs": [
        {
          "output_type": "stream",
          "text": [
            "Digging\n"
          ],
          "name": "stdout"
        }
      ]
    },
    {
      "cell_type": "code",
      "metadata": {
        "id": "FPuEyWsd1CTI"
      },
      "source": [
        "#this function will predict on all the test data \n",
        "def predict_on_test_videos(data_dir_path, base_model, model, data_set_name='test'):\n",
        "\n",
        "    input_data_dir_path = data_dir_path + '/' + data_set_name\n",
        "\n",
        "    test_labels = []\n",
        "    predicted_labels = []\n",
        "\n",
        "    dir_count = 0\n",
        "    for f in os.listdir(input_data_dir_path):\n",
        "        file_path = input_data_dir_path + os.path.sep + f\n",
        "        print(file_path)\n",
        "        for ff in os.listdir(file_path):\n",
        "            video_file_path = file_path + os.path.sep + ff\n",
        "            #print(output_feature_file_path)\n",
        "            x = predict_on_video(base_model=base_model, model=model, video_file_path=video_file_path )\n",
        "            y = f\n",
        "            test_labels.append(y)\n",
        "            predicted_labels.append(x)\n",
        "\n",
        "    return test_labels, predicted_labels"
      ],
      "execution_count": 101,
      "outputs": []
    },
    {
      "cell_type": "code",
      "metadata": {
        "colab": {
          "base_uri": "https://localhost:8080/"
        },
        "id": "xeVIVBhd5geM",
        "outputId": "7d75f833-9f12-4bf6-9265-721266622ba3"
      },
      "source": [
        "test_labels, predicted_labels = predict_on_test_videos(data_dir_path, base_model, model, data_set_name='test')"
      ],
      "execution_count": 102,
      "outputs": [
        {
          "output_type": "stream",
          "text": [
            "/content/drive/MyDrive/test/Hauling\n",
            "Extracting frames from video:  /content/drive/MyDrive/test/Hauling/Hauling_4.mp4\n",
            "Extracting frames from video:  /content/drive/MyDrive/test/Hauling/Hauling_1.mp4\n",
            "Extracting frames from video:  /content/drive/MyDrive/test/Hauling/Hauling_8.mp4\n",
            "Extracting frames from video:  /content/drive/MyDrive/test/Hauling/Hauling_14.mp4\n",
            "Extracting frames from video:  /content/drive/MyDrive/test/Hauling/Hauling_19.mp4\n",
            "/content/drive/MyDrive/test/Dumping\n",
            "Extracting frames from video:  /content/drive/MyDrive/test/Dumping/Dumping_3.mp4\n",
            "Extracting frames from video:  /content/drive/MyDrive/test/Dumping/Dumping_7.mp4\n",
            "Extracting frames from video:  /content/drive/MyDrive/test/Dumping/Dumping_12.mp4\n",
            "Extracting frames from video:  /content/drive/MyDrive/test/Dumping/Dumping_18.mp4\n",
            "Extracting frames from video:  /content/drive/MyDrive/test/Dumping/Dumping_24.mp4\n",
            "/content/drive/MyDrive/test/Digging\n",
            "Extracting frames from video:  /content/drive/MyDrive/test/Digging/Digging_1.mp4\n",
            "Extracting frames from video:  /content/drive/MyDrive/test/Digging/Digging_8.mp4\n",
            "Extracting frames from video:  /content/drive/MyDrive/test/Digging/Digging_14.mp4\n",
            "Extracting frames from video:  /content/drive/MyDrive/test/Digging/Digging_15.mp4\n",
            "Extracting frames from video:  /content/drive/MyDrive/test/Digging/Digging_23.mp4\n",
            "/content/drive/MyDrive/test/Swinging\n",
            "Extracting frames from video:  /content/drive/MyDrive/test/Swinging/Swinging_1.mp4\n",
            "Extracting frames from video:  /content/drive/MyDrive/test/Swinging/Swinging_6.mp4\n",
            "Extracting frames from video:  /content/drive/MyDrive/test/Swinging/Swinging_13.mp4\n",
            "Extracting frames from video:  /content/drive/MyDrive/test/Swinging/Swinging_19.mp4\n"
          ],
          "name": "stdout"
        }
      ]
    },
    {
      "cell_type": "code",
      "metadata": {
        "colab": {
          "base_uri": "https://localhost:8080/"
        },
        "id": "a_KgZFFh5x2l",
        "outputId": "c8f8c42e-b5e6-49e9-ff54-6c7bd43054f3"
      },
      "source": [
        "print(predicted_labels)"
      ],
      "execution_count": 103,
      "outputs": [
        {
          "output_type": "stream",
          "text": [
            "['Digging', 'Dumping', 'Dumping', 'Digging', 'Dumping', 'Dumping', 'Dumping', 'Dumping', 'Digging', 'Dumping', 'Dumping', 'Digging', 'Digging', 'Digging', 'Dumping', 'Dumping', 'Digging', 'Dumping', 'Dumping']\n"
          ],
          "name": "stdout"
        }
      ]
    },
    {
      "cell_type": "code",
      "metadata": {
        "colab": {
          "base_uri": "https://localhost:8080/"
        },
        "id": "bu92Opqj6F0z",
        "outputId": "6b5e8cd4-339a-4240-9966-70ee8c8658e7"
      },
      "source": [
        "print(test_labels)"
      ],
      "execution_count": 104,
      "outputs": [
        {
          "output_type": "stream",
          "text": [
            "['Hauling', 'Hauling', 'Hauling', 'Hauling', 'Hauling', 'Dumping', 'Dumping', 'Dumping', 'Dumping', 'Dumping', 'Digging', 'Digging', 'Digging', 'Digging', 'Digging', 'Swinging', 'Swinging', 'Swinging', 'Swinging']\n"
          ],
          "name": "stdout"
        }
      ]
    },
    {
      "cell_type": "code",
      "metadata": {
        "colab": {
          "base_uri": "https://localhost:8080/"
        },
        "id": "KZOh0ZLV6Sg5",
        "outputId": "98f5eda3-6ae2-4652-8b6b-85d0612bc987"
      },
      "source": [
        "model.summary()"
      ],
      "execution_count": 105,
      "outputs": [
        {
          "output_type": "stream",
          "text": [
            "Model: \"sequential\"\n",
            "_________________________________________________________________\n",
            "Layer (type)                 Output Shape              Param #   \n",
            "=================================================================\n",
            "lstm (LSTM)                  (None, 256)               25953280  \n",
            "_________________________________________________________________\n",
            "dense (Dense)                (None, 512)               131584    \n",
            "_________________________________________________________________\n",
            "dropout (Dropout)            (None, 512)               0         \n",
            "_________________________________________________________________\n",
            "dense_1 (Dense)              (None, 4)                 2052      \n",
            "_________________________________________________________________\n",
            "activation (Activation)      (None, 4)                 0         \n",
            "=================================================================\n",
            "Total params: 26,086,916\n",
            "Trainable params: 26,086,916\n",
            "Non-trainable params: 0\n",
            "_________________________________________________________________\n"
          ],
          "name": "stdout"
        }
      ]
    },
    {
      "cell_type": "code",
      "metadata": {
        "id": "rFzotWwL7wuN"
      },
      "source": [
        "model.load_weights(\"weight.hdf5\")\n"
      ],
      "execution_count": null,
      "outputs": []
    }
  ]
}